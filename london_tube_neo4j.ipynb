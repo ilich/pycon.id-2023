{
 "cells": [
  {
   "cell_type": "code",
   "execution_count": null,
   "metadata": {},
   "outputs": [],
   "source": [
    "import pathlib\n",
    "import os\n",
    "from pyvis import network as net\n",
    "from dotenv import load_dotenv\n",
    "import neo4j\n",
    "from pprint import pprint\n",
    "\n",
    "# Load environment variables\n",
    "env_path = pathlib.Path().resolve() / 'db_config.env'\n",
    "load_dotenv(dotenv_path=env_path)"
   ]
  },
  {
   "cell_type": "code",
   "execution_count": null,
   "metadata": {},
   "outputs": [],
   "source": [
    "URI = os.getenv(\"NEO4J_URI\")\n",
    "AUTH = (os.getenv(\"NEO4J_USERNAME\"), os.getenv(\"NEO4J_PASSWORD\"))\n",
    "\n",
    "\n",
    "def find_shortest_path(from_person, to_person):\n",
    "    QUERY = \"\"\"\n",
    "        MATCH (from_person:Person {name: $from_person})-[la:LIVES_NEAR]->(sa:Station),\n",
    "        (to_person:Person {name: $to_person})-[lb:LIVES_NEAR]->(sb:Station),\n",
    "        p = shortestPath((sa)-[:CONNECTS_TO*]-(sb))\n",
    "        RETURN from_person, to_person, p;\n",
    "    \"\"\"\n",
    "    with neo4j.GraphDatabase.driver(URI, auth=AUTH) as driver:\n",
    "        driver.verify_connectivity()\n",
    "        # arrat of records, summary, result fields\n",
    "        records, _, _ = driver.execute_query(\n",
    "            QUERY, from_person=from_person, to_person=to_person\n",
    "        )\n",
    "        if not records:\n",
    "            print(f\"No path found between {from_person} and {to_person}\")\n",
    "            return None\n",
    "\n",
    "        return records[0]\n",
    "\n",
    "\n",
    "def visualize_path(path):\n",
    "    nodes = [\n",
    "        path[\"from_person\"][\"name\"],\n",
    "        *[n[\"name\"] for n in path[\"p\"].nodes],\n",
    "        path[\"to_person\"][\"name\"],\n",
    "    ]\n",
    "    path_len = len(path[\"p\"].nodes)\n",
    "    path_colors = [\"blue\"] * path_len\n",
    "    colors = [\"orange\", *path_colors, \"orange\"]\n",
    "    g = net.Network(cdn_resources=\"remote\", directed=True)\n",
    "    g.add_nodes(nodes, color=colors)\n",
    "\n",
    "    # you do not need list() because add_edges accepts any iterable\n",
    "    # I added list() to use the same object in both add_edges() and pprint()\n",
    "    edges = list(zip(nodes[0:-1], nodes[1:]))\n",
    "    g.add_edges(edges)\n",
    "\n",
    "    pprint(nodes)\n",
    "    pprint(edges)\n",
    "    g.show(\"sample.html\", notebook=False)\n",
    "\n",
    "\n",
    "path = find_shortest_path(\"Alison\", \"Bob\")\n",
    "pprint(path)\n",
    "if path:\n",
    "    visualize_path(path)"
   ]
  }
 ],
 "metadata": {
  "kernelspec": {
   "display_name": "venv",
   "language": "python",
   "name": "python3"
  },
  "language_info": {
   "codemirror_mode": {
    "name": "ipython",
    "version": 3
   },
   "file_extension": ".py",
   "mimetype": "text/x-python",
   "name": "python",
   "nbconvert_exporter": "python",
   "pygments_lexer": "ipython3",
   "version": "3.11.6"
  }
 },
 "nbformat": 4,
 "nbformat_minor": 2
}
