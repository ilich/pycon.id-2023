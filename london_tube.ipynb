{
 "cells": [
  {
   "cell_type": "code",
   "execution_count": null,
   "metadata": {},
   "outputs": [],
   "source": [
    "import pathlib\n",
    "import csv\n",
    "import networkx as nx\n",
    "from pyvis import network as net"
   ]
  },
  {
   "cell_type": "markdown",
   "metadata": {},
   "source": [
    "# NetworkX graphs\n",
    "\n",
    "- **nx.Graph** - Unidirected graph\n",
    "- **nx.DiGraph** - Directed graph"
   ]
  },
  {
   "cell_type": "code",
   "execution_count": null,
   "metadata": {},
   "outputs": [],
   "source": [
    "STATION = 0\n",
    "LINE = 1\n",
    "PERSON = 2\n",
    "\n",
    "def node_id(type, name):\n",
    "    # Node ID must be either str or int to work with pyvis\n",
    "    return f\"{type}_{name}\"\n",
    "    \n",
    "\n",
    "# Create graph\n",
    "def create_graph():\n",
    "    G = nx.DiGraph()\n",
    "\n",
    "    root = pathlib.Path().resolve() / \"data\"\n",
    "\n",
    "    # Import stations\n",
    "    stations = root / \"stations.csv\"\n",
    "    all_stations = {}\n",
    "    with open(stations) as csvfile:\n",
    "        reader = csv.DictReader(csvfile)\n",
    "        for row in reader:\n",
    "            name = row[\"name\"]\n",
    "            node = node_id(STATION, name)\n",
    "            all_stations[row[\"id\"]] = node\n",
    "            G.add_node(node, label=name, type=STATION)\n",
    "\n",
    "    # Import lines\n",
    "    lines = root / \"lines_final.csv\"\n",
    "    with open(lines) as csvfile:\n",
    "        reader = csv.DictReader(csvfile)\n",
    "        for row in reader:\n",
    "            name = row[\"line_name\"]\n",
    "            line_node = node_id(LINE, name)\n",
    "            G.add_node(line_node, color=row[\"color\"], label=name, type=LINE)\n",
    "\n",
    "            station1 = all_stations[row[\"station1\"]]\n",
    "            station2 = all_stations[row[\"station2\"]]\n",
    "            G.add_edge(line_node, station1, type=\"CONSISTS_OF\")\n",
    "            G.add_edge(line_node, station2, type=\"CONSISTS_OF\")\n",
    "            G.add_edge(station1, station2, type=\"CONNECTS_TO\")\n",
    "            G.add_edge(station2, station1, type=\"CONNECTS_TO\")\n",
    "\n",
    "    # Import people\n",
    "    people = root / \"person.csv\"\n",
    "    with open(people) as csvfile:\n",
    "        reader = csv.DictReader(csvfile)\n",
    "        for row in reader:\n",
    "            name = row[\"name\"]\n",
    "            node = node_id(PERSON, name)\n",
    "            G.add_node(node, label=name, type=PERSON)\n",
    "            station = all_stations[row[\"station\"]]\n",
    "            G.add_edge(node, station, type=\"LIVES_NEAR\")\n",
    "            G.add_edge(station, node, type=\"LIVES_NEAR\")\n",
    "\n",
    "    return G\n",
    "\n",
    "G = create_graph()\n",
    "print(\"Number of nodes:\", G.number_of_nodes())\n",
    "print(\"Number of edges:\", G.number_of_edges())\n",
    "\n"
   ]
  },
  {
   "cell_type": "code",
   "execution_count": null,
   "metadata": {},
   "outputs": [],
   "source": [
    "# Visualization using pyvis\n",
    "def show(G, directed):\n",
    "    n = net.Network(cdn_resources=\"remote\", directed=directed)\n",
    "    n.from_nx(G)\n",
    "    n.show(\"sample.html\", notebook=False)"
   ]
  },
  {
   "cell_type": "code",
   "execution_count": null,
   "metadata": {},
   "outputs": [],
   "source": [
    "# All stations on the Victoria Line\n",
    "line_id = node_id(LINE, \"Victoria Line\")\n",
    "G_line = G.subgraph(G[line_id])\n",
    "show(G_line, False)"
   ]
  },
  {
   "cell_type": "code",
   "execution_count": null,
   "metadata": {},
   "outputs": [],
   "source": [
    "def filter_person_location(G, person):\n",
    "    nodes_to_show = []\n",
    "    person_id = node_id(PERSON, person)\n",
    "    nodes_to_show.append(person_id)\n",
    "    for neighbor in G.neighbors(person_id):\n",
    "\n",
    "        # Find stations\n",
    "        if G.nodes[neighbor][\"type\"] == STATION:\n",
    "            nodes_to_show.append(neighbor)\n",
    "\n",
    "            # Find lines\n",
    "            for (line, _) in G.in_edges(neighbor):\n",
    "                if G.nodes[line][\"type\"] == LINE:\n",
    "                    nodes_to_show.append(line)\n",
    "                    \n",
    "    view = nx.subgraph_view(G, filter_node=lambda n: n in nodes_to_show)\n",
    "    return view"
   ]
  },
  {
   "cell_type": "code",
   "execution_count": null,
   "metadata": {},
   "outputs": [],
   "source": [
    "# Find station and line where Alison lives\n",
    "G_alison = filter_person_location(G, \"Alison\")\n",
    "show(G_alison, False)"
   ]
  },
  {
   "cell_type": "code",
   "execution_count": null,
   "metadata": {},
   "outputs": [],
   "source": [
    "# Find station and line where Bob lives\n",
    "G_alison = filter_person_location(G, \"Bob\")\n",
    "show(G_alison, False)"
   ]
  },
  {
   "cell_type": "code",
   "execution_count": null,
   "metadata": {},
   "outputs": [],
   "source": [
    "# Find path from Alison's station to Bob's station\n",
    "alison_id = node_id(PERSON, \"Alison\")\n",
    "bob_id = node_id(PERSON, \"Bob\")\n",
    "route = nx.shortest_path(G, alison_id, bob_id)\n",
    "print(route)\n",
    "G_route = G.subgraph(route)\n",
    "show(G_route, True)"
   ]
  },
  {
   "cell_type": "markdown",
   "metadata": {},
   "source": [
    "This example shows why it is important to use DiGraph here. We I used Graph, the shortest path would be **Person -> Station -> Line -> Station -> Person**"
   ]
  }
 ],
 "metadata": {
  "kernelspec": {
   "display_name": "venv",
   "language": "python",
   "name": "python3"
  },
  "language_info": {
   "codemirror_mode": {
    "name": "ipython",
    "version": 3
   },
   "file_extension": ".py",
   "mimetype": "text/x-python",
   "name": "python",
   "nbconvert_exporter": "python",
   "pygments_lexer": "ipython3",
   "version": "3.11.6"
  }
 },
 "nbformat": 4,
 "nbformat_minor": 2
}
